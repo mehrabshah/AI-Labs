{
  "nbformat": 4,
  "nbformat_minor": 0,
  "metadata": {
    "colab": {
      "provenance": []
    },
    "kernelspec": {
      "name": "python3",
      "display_name": "Python 3"
    },
    "language_info": {
      "name": "python"
    }
  },
  "cells": [
    {
      "cell_type": "code",
      "execution_count": null,
      "metadata": {
        "id": "3X5ITQIJdqoL"
      },
      "outputs": [],
      "source": [
        "file=open(\"logfile.txt\",'r')\n",
        "characters=file.read()\n",
        "reverse_characters=characters[::-1]\n",
        "print(reverse_characters)\n",
        "reverse_file=open(\"reversefile.txt\",\"w\")\n",
        "reverse_file.write(reverse_characters)"
      ]
    }
  ]
}