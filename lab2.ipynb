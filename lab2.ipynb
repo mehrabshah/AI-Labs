{
  "nbformat": 4,
  "nbformat_minor": 0,
  "metadata": {
    "colab": {
      "provenance": []
    },
    "kernelspec": {
      "name": "python3",
      "display_name": "Python 3"
    },
    "language_info": {
      "name": "python"
    }
  },
  "cells": [
    {
      "cell_type": "code",
      "execution_count": 11,
      "metadata": {
        "id": "usplb7J9k1yh",
        "colab": {
          "base_uri": "https://localhost:8080/"
        },
        "outputId": "eb6469ea-9207-4c82-d46f-21a62b71342d"
      },
      "outputs": [
        {
          "output_type": "stream",
          "name": "stdout",
          "text": [
            "Enter the number5\n",
            "Number of chickens: 5\n"
          ]
        }
      ],
      "source": [
        "def chickens(number):\n",
        "   if number >=10:\n",
        "     print(\"number of chickens many\")\n",
        "   else:\n",
        "     print(f\"Number of chickens: {number}\")\n",
        "\n",
        "\n",
        "numbers=int(input(\"Enter the number\"))\n",
        "chickens(numbers)"
      ]
    },
    {
      "cell_type": "code",
      "source": [
        "def combinations(A):\n",
        "   length=len(A)\n",
        "   new_string=''\n",
        "\n",
        "   if length<3:\n",
        "      return \" \"\n",
        "   else:\n",
        "      new_string=A[:3] + A[-3:]\n",
        "      return new_string\n",
        "\n",
        "A = \"intelligence\"\n",
        "new_string=combinations(A)\n",
        "print(A)\n",
        "print(f\"new string is {new_string}\")\n"
      ],
      "metadata": {
        "colab": {
          "base_uri": "https://localhost:8080/"
        },
        "id": "jmiv608dBZbG",
        "outputId": "e863d903-071a-4f65-eb5b-8ae5e4241501"
      },
      "execution_count": 26,
      "outputs": [
        {
          "output_type": "stream",
          "name": "stdout",
          "text": [
            "intelligence\n",
            "new string is intnce\n"
          ]
        }
      ]
    },
    {
      "cell_type": "code",
      "source": [
        "def replace_characters(s):\n",
        "   print(s)\n",
        "   first_character=s[0]\n",
        "   new_list=first_character + s[1:].replace(first_character.lower(),'@')\n",
        "   return new_list\n",
        "\n",
        "s = \"Ooogle\"\n",
        "new_list=replace_characters(s)\n",
        "print(new_list)"
      ],
      "metadata": {
        "colab": {
          "base_uri": "https://localhost:8080/"
        },
        "id": "4OhHDYZmD-Q9",
        "outputId": "7ff5fad1-b0db-46ec-8044-894fce655720"
      },
      "execution_count": 31,
      "outputs": [
        {
          "output_type": "stream",
          "name": "stdout",
          "text": [
            "Ooogle\n",
            "O@@gle\n"
          ]
        }
      ]
    },
    {
      "cell_type": "code",
      "source": [
        "def swap_and_combine(a, b):\n",
        "\n",
        "    if len(a) < 2 or len(b) < 2:\n",
        "        return \"Both strings must be of length 2 or more\"\n",
        "\n",
        "    new_a = b[:2] + a[2:]\n",
        "    new_b = a[:2] + b[2:]\n",
        "\n",
        "    new_string = new_a + \" \" + new_b\n",
        "\n",
        "    return new_string\n",
        "\n",
        "a = \"mix\"\n",
        "b = \"pod\"\n",
        "result = swap_and_combine(a, b)\n",
        "print(result)\n",
        "a = \"dog\"\n",
        "b = \"dinner\"\n",
        "result = swap_and_combine(a, b)\n",
        "print(result)\n"
      ],
      "metadata": {
        "colab": {
          "base_uri": "https://localhost:8080/"
        },
        "id": "Ckf3wxGqGoEx",
        "outputId": "bc2167ca-d85d-4da8-9284-52d770dacb66"
      },
      "execution_count": 32,
      "outputs": [
        {
          "output_type": "stream",
          "name": "stdout",
          "text": [
            "pox mid\n",
            "dig donner\n"
          ]
        }
      ]
    },
    {
      "cell_type": "code",
      "source": [
        "def matching_strings(strings):\n",
        "  print(strings)\n",
        "  count=0\n",
        "  for s in strings:\n",
        "     if len(s)>2 and s[0]==s[-1]:\n",
        "        count += 1\n",
        "  return count\n",
        "\n",
        "strings = [\"hello\", \"aba\", \"xyz\", \"aa\", \"bcb\", \"no\"]\n",
        "count=matching_strings(strings)\n",
        "print(count)\n",
        "\n"
      ],
      "metadata": {
        "colab": {
          "base_uri": "https://localhost:8080/"
        },
        "id": "ZQUia-M5IqZa",
        "outputId": "d19fde95-f383-4a3d-eab0-b61eccd06d41"
      },
      "execution_count": 39,
      "outputs": [
        {
          "output_type": "stream",
          "name": "stdout",
          "text": [
            "['hello', 'aba', 'xyz', 'aa', 'bcb', 'no']\n",
            "2\n"
          ]
        }
      ]
    },
    {
      "cell_type": "code",
      "source": [
        "def sorted_by_last_element(tuples):\n",
        "   return sorted(tuples,key= lambda x:x[-1])\n",
        "\n",
        "\n",
        "tuples = [(1, 7), (1, 3), (3, 4, 5), (2, 2)]\n",
        "sorted_tuples=sorted_by_last_element(tuples)\n",
        "print(sorted_tuples)"
      ],
      "metadata": {
        "colab": {
          "base_uri": "https://localhost:8080/"
        },
        "id": "nL3ZdLPaKbRI",
        "outputId": "0cf25a29-fe7a-4d86-ca34-ca18b11adaf6"
      },
      "execution_count": 43,
      "outputs": [
        {
          "output_type": "stream",
          "name": "stdout",
          "text": [
            "[(2, 2), (1, 3), (3, 4, 5), (1, 7)]\n"
          ]
        }
      ]
    }
  ]
}