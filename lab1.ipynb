{
  "nbformat": 4,
  "nbformat_minor": 0,
  "metadata": {
    "colab": {
      "provenance": []
    },
    "kernelspec": {
      "name": "python3",
      "display_name": "Python 3"
    },
    "language_info": {
      "name": "python"
    }
  },
  "cells": [
    {
      "cell_type": "code",
      "execution_count": 7,
      "metadata": {
        "colab": {
          "base_uri": "https://localhost:8080/"
        },
        "id": "9cX-Zs6tTLrS",
        "outputId": "9cc1f9a9-1619-4f6f-a956-bd294a0cce91"
      },
      "outputs": [
        {
          "output_type": "stream",
          "name": "stdout",
          "text": [
            "['o', 'l', 'l', 'e', 'h']\n"
          ]
        }
      ],
      "source": [
        "def reverse_string(A):\n",
        "\n",
        "  left = 0\n",
        "  right = len(A) - 1\n",
        "\n",
        "  while right > left:\n",
        "    A[left],A[right]=A[right],A[left]\n",
        "    left+=1\n",
        "    right-=1\n",
        "\n",
        "\n",
        "\n",
        "char_array = ['h','e','l','l','o']\n",
        "reverse_string(char_array)\n",
        "print(char_array)\n",
        "\n"
      ]
    },
    {
      "cell_type": "code",
      "source": [
        "def is_palindrome(S):\n",
        "  print(S)\n",
        "  filtered_characters=[char.lower() for char in S if char.isalnum()]\n",
        "  print(filtered_characters)\n",
        "  return filtered_characters == filtered_characters[::-1]\n",
        "\n",
        "\n",
        "S = \"A man, a plan, a canal: Panama\"\n",
        "is_palindrome(S)"
      ],
      "metadata": {
        "colab": {
          "base_uri": "https://localhost:8080/"
        },
        "id": "ZZcObb4pXeux",
        "outputId": "8f00a5b3-6ebe-49d3-9532-76de9e29dae9"
      },
      "execution_count": 6,
      "outputs": [
        {
          "output_type": "stream",
          "name": "stdout",
          "text": [
            "A man, a plan, a canal: Panama\n",
            "['a', 'm', 'a', 'n', 'a', 'p', 'l', 'a', 'n', 'a', 'c', 'a', 'n', 'a', 'l', 'p', 'a', 'n', 'a', 'm', 'a']\n"
          ]
        },
        {
          "output_type": "execute_result",
          "data": {
            "text/plain": [
              "True"
            ]
          },
          "metadata": {},
          "execution_count": 6
        }
      ]
    }
  ]
}